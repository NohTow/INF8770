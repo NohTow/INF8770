{
 "cells": [
  {
   "cell_type": "markdown",
   "metadata": {},
   "source": [
    "INF8770 Technologies multimédias\n",
    "\n",
    "Polytechnique Montréal\n",
    "\n",
    "Exemple de l'application de la méthode du codage prédicitif sur une image"
   ]
  },
  {
   "cell_type": "code",
   "execution_count": 1,
   "metadata": {},
   "outputs": [],
   "source": [
    "import numpy as np\n",
    "import matplotlib.pyplot as py\n",
    "import time as time \n",
    "import os\n",
    "import psutil"
   ]
  },
  {
   "cell_type": "markdown",
   "metadata": {},
   "source": [
    "Lecture d'une image, conversion en tons de gris, conversion de l'image en float pour les calculs, et affichage "
   ]
  },
  {
   "cell_type": "code",
   "execution_count": 2,
   "metadata": {
    "scrolled": true
   },
   "outputs": [
    {
     "data": {
      "image/png": "[encoded data removed]",
      "text/plain": [
       "<Figure size 72x72 with 1 Axes>"
      ]
     },
     "metadata": {
      "needs_background": "light"
     },
     "output_type": "display_data"
    }
   ],
   "source": [
    "def rgb2gray(rgb):\n",
    "    return np.dot(rgb[:,:], [0.299, 0.587, 0.114])\n",
    "\n",
    "fig1 = py.figure(figsize = (1,1))\n",
    "imagelue = py.imread('test.jpg')\n",
    "image=imagelue.astype('float')\n",
    "image=rgb2gray(image)\n",
    "imageout=image.astype('uint8')\n",
    "py.imshow(imageout,cmap = py.get_cmap('gray'))\n",
    "py.show()"
   ]
  },
  {
   "cell_type": "markdown",
   "metadata": {},
   "source": [
    "Histogramme des tons de gris. "
   ]
  },
  {
   "cell_type": "code",
   "execution_count": 3,
   "metadata": {},
   "outputs": [
    {
     "data": {
      "image/png": "[encoded data removed]",
      "text/plain": [
       "<Figure size 432x288 with 1 Axes>"
      ]
     },
     "metadata": {
      "needs_background": "light"
     },
     "output_type": "display_data"
    }
   ],
   "source": [
    "hist, intervalles = np.histogram(imageout, bins=256)\n",
    "py.bar(intervalles[:-1], hist, width = 2)\n",
    "py.xlim(min(intervalles)-1, max(intervalles))\n",
    "py.show() "
   ]
  },
  {
   "cell_type": "markdown",
   "metadata": {
    "collapsed": true
   },
   "source": [
    "Duplication des colonnes et rangées pour les frontières.\n",
    "\n",
    "Matrice de prédiction. Un pixel est prédit à partir de ses 3 voisins.\n",
    "\n",
    "Calcul des prédictions et des erreurs de prédictions."
   ]
  },
  {
   "cell_type": "code",
   "execution_count": 4,
   "metadata": {},
   "outputs": [
    {
     "name": "stdout",
     "output_type": "stream",
     "text": [
      "0.0019965171813964844\n"
     ]
    }
   ],
   "source": [
    "startTimer = time.time()\n",
    "col=image[:,0]\n",
    "image = np.column_stack((col,image))\n",
    "col=image[:,len(image[0])-1]\n",
    "image = np.column_stack((col,image))\n",
    "row=image[0,:]\n",
    "image = np.row_stack((row,image))\n",
    "row=image[len(image)-1,:]\n",
    "image = np.row_stack((row,image))\n",
    "\n",
    "matpred = [[0.33,0.33],[0.33,0.0]]\n",
    "\n",
    "erreur = np.zeros((len(image)-2,len(image[0])-2))\n",
    "imagepred = np.zeros((len(image)-2,len(image[0])-2))\n",
    "for i in range(1,len(image)-2):\n",
    "    for j in range(1,len(image[0])-2):\n",
    "        imagepred[i][j]=image[i-1][j-1]*matpred[0][0]+image[i-1][j]*matpred[0][1]+image[i][j-1]*matpred[1][0]\n",
    "        erreur[i][j]=imagepred[i][j]-image[i][j]\n",
    "endTimer = time.time()\n",
    "predictifTime = endTimer-startTimer\n",
    "print(predictifTime)"
   ]
  },
  {
   "cell_type": "code",
   "execution_count": 5,
   "metadata": {},
   "outputs": [
    {
     "data": {
      "image/png": "[encoded data removed]",
      "text/plain": [
       "<Figure size 432x288 with 1 Axes>"
      ]
     },
     "metadata": {
      "needs_background": "light"
     },
     "output_type": "display_data"
    }
   ],
   "source": [
    "hist, intervalles = np.histogram(erreur, bins=100)\n",
    "py.bar(intervalles[:-1], hist, width = 2)\n",
    "py.xlim(min(intervalles)-1, max(intervalles))\n",
    "py.show()  "
   ]
  },
  {
   "cell_type": "markdown",
   "metadata": {},
   "source": [
    "Affichage de l'image prédite"
   ]
  },
  {
   "cell_type": "code",
   "execution_count": 6,
   "metadata": {},
   "outputs": [
    {
     "data": {
      "image/png": "[encoded data removed]",
      "text/plain": [
       "<Figure size 72x72 with 1 Axes>"
      ]
     },
     "metadata": {
      "needs_background": "light"
     },
     "output_type": "display_data"
    }
   ],
   "source": [
    "fig2 = py.figure(figsize = (1,1))\n",
    "imageout=imagepred.astype('uint8')\n",
    "py.imshow(imageout, cmap = py.get_cmap('gray'))\n",
    "py.show()"
   ]
  },
  {
   "cell_type": "markdown",
   "metadata": {},
   "source": [
    "Image des erreurs (amplifiées pour une meilleure visibilité)"
   ]
  },
  {
   "cell_type": "code",
   "execution_count": 7,
   "metadata": {
    "scrolled": true
   },
   "outputs": [
    {
     "data": {
      "image/png": "[encoded data removed]",
      "text/plain": [
       "<Figure size 72x72 with 1 Axes>"
      ]
     },
     "metadata": {
      "needs_background": "light"
     },
     "output_type": "display_data"
    }
   ],
   "source": [
    "fig3 = py.figure(figsize = (1,1))\n",
    "erreur=abs(erreur)*5\n",
    "imageout=erreur.astype('uint8')\n",
    "py.imshow(imageout, cmap = py.get_cmap('gray'))\n",
    "py.show()"
   ]
  },
  {
   "cell_type": "markdown",
   "metadata": {},
   "source": [
    "HUFFMAN"
   ]
  },
  {
   "cell_type": "code",
   "execution_count": 8,
   "metadata": {},
   "outputs": [],
   "source": [
    "from anytree import Node, RenderTree, PreOrderIter, AsciiStyle\n",
    "\n",
    "\n",
    "#transformer l'image en string\n",
    "imageout = imageout.flatten().astype('str')\n",
    "Message = ''.join(imageout)\n",
    "\n"
   ]
  },
  {
   "cell_type": "code",
   "execution_count": 10,
   "metadata": {},
   "outputs": [
    {
     "name": "stdout",
     "output_type": "stream",
     "text": [
      "memory used in Mbytes = 60.54296875\n",
      "execution time = 0.0129852294921875\n",
      "Taux de compression = 0.22163461538461537\n"
     ]
    }
   ],
   "source": [
    "StartTimer1 = time.time()\n",
    "#Liste qui sera modifié jusqu'à ce qu'elle contienne seulement la racine de l'arbre\n",
    "ArbreSymb =[[Message[0], Message.count(Message[0]), Node(Message[0])]] \n",
    "#dictionnaire obtenu à partir de l'arbre.\n",
    "dictionnaire = [[Message[0], '']]\n",
    "nbsymboles = 1\n",
    "\n",
    "#Recherche des feuilles de l'arbre\n",
    "for i in range(1,len(Message)):\n",
    "    if not list(filter(lambda x: x[0] == Message[i], ArbreSymb)):\n",
    "        ArbreSymb += [[Message[i], Message.count(Message[i]),Node(Message[i])]]\n",
    "        dictionnaire += [[Message[i], '']]\n",
    "        nbsymboles += 1\n",
    "        \n",
    "longueurOriginale = np.ceil(np.log2(nbsymboles))*len(Message)   \n",
    "\n",
    "#Affichage des feuilles trouvées. Les feuilles sont triées pour la construction de l'arbre selon l'algorithme Huffman\n",
    "ArbreSymb = sorted(ArbreSymb, key=lambda x: x[1])\n",
    "\n",
    "#Création de l'arbre\n",
    "\n",
    "\n",
    "while len(ArbreSymb) > 1:\n",
    "    #Fusion des noeuds de poids plus faibles\n",
    "    symbfusionnes = ArbreSymb[0][0] + ArbreSymb[1][0] \n",
    "    #Création d'un nouveau noeud\n",
    "    noeud = Node(symbfusionnes)\n",
    "    temp = [symbfusionnes, ArbreSymb[0][1] + ArbreSymb[1][1], noeud]\n",
    "    #Ajustement de l'arbre pour connecter le nouveau avec ses parents \n",
    "    ArbreSymb[0][2].parent = noeud\n",
    "    ArbreSymb[1][2].parent = noeud\n",
    "    #Enlève les noeuds fusionnés de la liste de noeud à fusionner.\n",
    "    del ArbreSymb[0:2]\n",
    "    #Ajout du nouveau noeud à la liste et tri.\n",
    "    ArbreSymb += [temp]\n",
    "    #Pour affichage de l'arbre ou des sous-branches\n",
    "      \n",
    "    ArbreSymb = sorted(ArbreSymb, key=lambda x: x[1])  \n",
    "\n",
    "#On traverse l'arbre des symboles par parcours préfix, et on construit un arbre semblable de codes binaires. Le premier enfant avec 0, le deuxième avec 1. Ensuite, on utilisera les 2 arbres pour construire le dictionnaire.\n",
    "\n",
    "\n",
    "ArbreCodes = Node('')\n",
    "noeud = ArbreCodes\n",
    "#print([node.name for node in PreOrderIter(ArbreSymb[0][2])])\n",
    "parcoursprefix = [node for node in PreOrderIter(ArbreSymb[0][2])]\n",
    "parcoursprefix = parcoursprefix[1:len(parcoursprefix)] #ignore la racine\n",
    "\n",
    "Prevdepth = 0 #pour suivre les mouvements en profondeur dans l'arbre\n",
    "for node in parcoursprefix:  #Liste des noeuds \n",
    "    if Prevdepth < node.depth: #On va plus profond dans l'arbre, on met un 0\n",
    "        temp = Node(noeud.name + '0')\n",
    "        noeud.children = [temp]\n",
    "        if node.children: #On avance le \"pointeur\" noeud si le noeud ajouté a des enfants.\n",
    "            noeud = temp\n",
    "    elif Prevdepth == node.depth: #Même profondeur, autre feuille, on met un 1\n",
    "        temp = Node(noeud.name + '1')\n",
    "        noeud.children = [noeud.children[0], temp]  #Ajoute le deuxième enfant\n",
    "        if node.children: #On avance le \"pointeur\" noeud si le noeud ajouté a des enfants.\n",
    "            noeud = temp\n",
    "    else:\n",
    "        for i in range(Prevdepth-node.depth): #On prend une autre branche, donc on met un 1\n",
    "            noeud = noeud.parent #On remontre dans l'arbre pour prendre la prochaine branche non explorée.\n",
    "        temp = Node(noeud.name + '1')\n",
    "        noeud.children = [noeud.children[0], temp]\n",
    "        if node.children:\n",
    "            noeud = temp\n",
    "        \n",
    "    Prevdepth = node.depth    \n",
    "         \n",
    "    ArbreSymbList = [node for node in PreOrderIter(ArbreSymb[0][2])]\n",
    "ArbreCodeList = [node for node in PreOrderIter(ArbreCodes)]\n",
    "\n",
    "for i in range(len(ArbreSymbList)):\n",
    "    if ArbreSymbList[i].is_leaf: #Génère des codes pour les feuilles seulement\n",
    "        temp = list(filter(lambda x: x[0] == ArbreSymbList[i].name, dictionnaire))\n",
    "        if temp:\n",
    "            indice = dictionnaire.index(temp[0])\n",
    "            dictionnaire[indice][1] = ArbreCodeList[i].name\n",
    "            \n",
    "MessageCode = []\n",
    "longueur = 0 \n",
    "for i in range(len(Message)):\n",
    "    substitution = list(filter(lambda x: x[0] == Message[i], dictionnaire))\n",
    "    MessageCode += [substitution[0][1]]\n",
    "    longueur += len(substitution[0][1]) \n",
    "EndTimer1 = time.time()\n",
    "HuffmanTime = EndTimer1-StartTimer1\n",
    "\n",
    "#MEMOIRE, TEMPS Longueur en bits du message codé et celle de l'original\n",
    "process = psutil.Process(os.getpid())\n",
    "memoryInfo =(process.memory_info().rss) / float(2**20) \n",
    "print(\"memory used in Mbytes = {0}\".format(memoryInfo)) \n",
    "\n",
    "TotalTime = HuffmanTime + predictifTime\n",
    "print(\"execution time = {0}\".format(TotalTime))\n",
    "\n",
    "#print(\"Longueur = {0}\".format(longueur))\n",
    "#print(\"Longueur originale = {0}\".format(longueurOriginale))\n",
    "\n",
    "Ratio = 1 - (longueur/longueurOriginale) \n",
    "print(\"Taux de compression = {0}\".format(Ratio))"
   ]
  },
  {
   "cell_type": "code",
   "execution_count": null,
   "metadata": {},
   "outputs": [],
   "source": []
  },
  {
   "cell_type": "code",
   "execution_count": null,
   "metadata": {},
   "outputs": [],
   "source": []
  },
  {
   "cell_type": "code",
   "execution_count": null,
   "metadata": {},
   "outputs": [],
   "source": []
  }
 ],
 "metadata": {
  "kernelspec": {
   "display_name": "Python 3",
   "language": "python",
   "name": "python3"
  },
  "language_info": {
   "codemirror_mode": {
    "name": "ipython",
    "version": 3
   },
   "file_extension": ".py",
   "mimetype": "text/x-python",
   "name": "python",
   "nbconvert_exporter": "python",
   "pygments_lexer": "ipython3",
   "version": "3.7.2"
  }
 },
 "nbformat": 4,
 "nbformat_minor": 2
}
